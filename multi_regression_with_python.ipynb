{
  "nbformat": 4,
  "nbformat_minor": 0,
  "metadata": {
    "colab": {
      "provenance": [],
      "authorship_tag": "ABX9TyNcjKqF56jsB4hdQWYpN1HV",
      "include_colab_link": true
    },
    "kernelspec": {
      "name": "python3",
      "display_name": "Python 3"
    },
    "language_info": {
      "name": "python"
    }
  },
  "cells": [
    {
      "cell_type": "markdown",
      "metadata": {
        "id": "view-in-github",
        "colab_type": "text"
      },
      "source": [
        "<a href=\"https://colab.research.google.com/github/jhammo28/cosc559_fittslaw/blob/main/multi_regression_with_python.ipynb\" target=\"_parent\"><img src=\"https://colab.research.google.com/assets/colab-badge.svg\" alt=\"Open In Colab\"/></a>"
      ]
    },
    {
      "cell_type": "code",
      "execution_count": 5,
      "metadata": {
        "id": "RfGy6liCGuoi"
      },
      "outputs": [],
      "source": [
        "# Import numpy, pandas, and scikit-learn for Linear Regression and working with data\n",
        "import numpy as np\n",
        "import pandas as pd\n",
        "from sklearn.linear_model import LinearRegression"
      ]
    },
    {
      "cell_type": "code",
      "source": [
        "# Load the data here as a CSV. Make sure to reload into working directory on each run\n",
        "df = pd.read_csv('input_csv_sample.csv')\n",
        "X = df[['ID']]  # Independent variables\n",
        "y = df[ 'MT (in seconds)']  # Dependent variable\n",
        "\n",
        "# This sets the model for linear regression\n",
        "model = LinearRegression()"
      ],
      "metadata": {
        "id": "jjv38gwEIaVm"
      },
      "execution_count": 6,
      "outputs": []
    },
    {
      "cell_type": "code",
      "source": [
        "# This sets the fit of the model\n",
        "model.fit(X, y)\n",
        "\n",
        "# Get the intercept (a) and slope (b).\n",
        "a = model.intercept_\n",
        "b = model.coef_[0]\n",
        "\n",
        "# Print the results\n",
        "print(f\"Intercept (a): {a}\")\n",
        "print(f\"Slope (b): {b}\")\n",
        "\n",
        "# You can also make predictions using the model\n",
        "predictions = model.predict(X)\n",
        "print(\"Predictions:\", predictions)"
      ],
      "metadata": {
        "colab": {
          "base_uri": "https://localhost:8080/"
        },
        "id": "M_bDy2CZJTJp",
        "outputId": "b85dc297-8ccf-4c5f-cdb1-abce8b12a727"
      },
      "execution_count": 7,
      "outputs": [
        {
          "output_type": "stream",
          "name": "stdout",
          "text": [
            "Intercept (a): 3.0\n",
            "Slope (b): 0.34999999999999987\n",
            "Predictions: [3.35 3.7  4.05 4.4  4.75 5.1  5.45]\n"
          ]
        }
      ]
    }
  ]
}